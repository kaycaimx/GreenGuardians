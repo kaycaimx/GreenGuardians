{
  "cells": [
    {
      "cell_type": "markdown",
      "source": [
        "# Forest Vegetation Identification in British Columbia: A Static Algorithm Approach\n",
        "\n",
        "Team: Green Guardian<br>\n",
        "Members: Kay Cai, Dana Zhan, Mia Yan, Fengting Tang<br>\n",
        "Mentors: Derek Jacoby, Yvonne Coady<br>"
      ],
      "metadata": {
        "id": "k4MsEYPYdMHV"
      }
    },
    {
      "cell_type": "markdown",
      "source": [
        "Notice: If you are viewing this notebook on GitHub, you may have noticed that all the outputs are cleared. This is due to the file size limiation when uploading to GitHub.\n",
        "Please refer to [Google Colab Link](https://colab.research.google.com/drive/1mOwenrmkZ9UghsrzCILrqeOzSoji7eX-?usp=sharing) for the complete version."
      ],
      "metadata": {
        "id": "YfdwMomYBtUu"
      }
    },
    {
      "cell_type": "markdown",
      "source": [
        "## 1. Set Up"
      ],
      "metadata": {
        "id": "zeOlDkHNefEU"
      }
    },
    {
      "cell_type": "markdown",
      "source": [
        "### 1-1. Set Up Libraries"
      ],
      "metadata": {
        "id": "TiVBQfl_eyxk"
      }
    },
    {
      "cell_type": "code",
      "source": [
        "# install libraries\n",
        "%pip install folium fsspec geopandas mapclassify python-dotenv pystac-client shapely opencv-python matplotlib tifffile rasterio pyproj"
      ],
      "metadata": {
        "id": "Kx12o0Nle-GC"
      },
      "execution_count": null,
      "outputs": []
    },
    {
      "cell_type": "code",
      "source": [
        "# import libraries\n",
        "from datetime import datetime\n",
        "from pathlib import Path\n",
        "import json\n",
        "import os\n",
        "import shutil\n",
        "import requests\n",
        "from dotenv import load_dotenv\n",
        "from pystac_client import Client\n",
        "from pystac.item import Item\n",
        "from shapely.geometry import shape, Polygon, mapping\n",
        "import copy\n",
        "import cv2\n",
        "import folium\n",
        "import geopandas as gpd\n",
        "import matplotlib.pyplot as plt\n",
        "import numpy as np\n",
        "import tifffile as tiff\n",
        "import rasterio\n",
        "from rasterio.mask import mask\n",
        "from pyproj import Transformer\n",
        "from PIL import Image\n",
        "from IPython.display import display, HTML\n",
        "from matplotlib.colors import Normalize\n",
        "from sklearn.metrics import confusion_matrix, ConfusionMatrixDisplay, accuracy_score, precision_score, recall_score, f1_score, cohen_kappa_score\n",
        "from skimage.feature import graycomatrix, graycoprops\n",
        "from skimage import data\n",
        "from skimage.color import rgb2gray\n",
        "import pandas as pd\n",
        "from collections import defaultdict"
      ],
      "metadata": {
        "id": "WYAphFPFfYiT"
      },
      "execution_count": null,
      "outputs": []
    },
    {
      "cell_type": "markdown",
      "source": [
        "### 1-2. Function Definitions"
      ],
      "metadata": {
        "id": "z9Df3TIqleqq"
      }
    },
    {
      "cell_type": "markdown",
      "source": [
        "#### 1-2-1. Data Retrieving Functions"
      ],
      "metadata": {
        "id": "8YiW9XUYCiEL"
      }
    },
    {
      "cell_type": "code",
      "source": [
        "'''\n",
        "Function -- get_api_client\n",
        "    Get client of the Earth Platform API to access sentinel data\n",
        "Return:\n",
        "    client -- client of the API\n",
        "'''\n",
        "\n",
        "def get_api_client():\n",
        "\n",
        "    # load secrets\n",
        "    load_dotenv(\n",
        "        # You will need to create this file with your\n",
        "        # CLIENT_ID, CLIENT_SECRET, AUTH_TOKEN_URL, and API_URL\n",
        "        dotenv_path=\"secrets.env\"\n",
        "    )\n",
        "    CLIENT_ID = os.environ.get(\"CLIENT_ID\")\n",
        "    CLIENT_SECRET = os.environ.get(\"CLIENT_SECRET\")\n",
        "    AUTH_TOKEN_URL = os.environ.get(\"AUTH_TOKEN_URL\")\n",
        "    API_URL = os.environ.get(\"API_URL\")\n",
        "\n",
        "    # authenticate with the Earth Platform and obtain a new access token\n",
        "    token_req_payload = {\"grant_type\": \"client_credentials\"}\n",
        "    token_response = requests.post(\n",
        "        AUTH_TOKEN_URL,\n",
        "        data=token_req_payload,\n",
        "        allow_redirects=False,\n",
        "        auth=(CLIENT_ID, CLIENT_SECRET),\n",
        "    )\n",
        "    token_response.raise_for_status()  # Raise an exception if the request failed\n",
        "    tokens = json.loads(token_response.text)\n",
        "    access_token = tokens[\"access_token\"]\n",
        "\n",
        "    # Open a client to the API\n",
        "    client = Client.open(API_URL, headers={\"Authorization\": f\"Bearer {access_token}\"})\n",
        "\n",
        "    return client"
      ],
      "metadata": {
        "id": "dfJ31fNgpKth"
      },
      "execution_count": null,
      "outputs": []
    },
    {
      "cell_type": "code",
      "source": [
        "'''\n",
        "Function -- get_shapely_geometry\n",
        "    Get shapely geometry and display the area on map according to the given coordinates\n",
        "Parameters:\n",
        "    coordinates -- a list of coordinates that form the area to be displayed\n",
        "        e.g. [[lon1, lat1], [lon2, lat2], ...]\n",
        "        generate at https://geojson.io/\n",
        "Return:\n",
        "    location -- a string that is the name of the location connected with underscores e.g. 'garibaldi_lake'\n",
        "    shapely_geometry -- a shapely geometry of the given coordinates\n",
        "'''\n",
        "\n",
        "def get_shapely_geometry(location, coordinates):\n",
        "    geojson_geometry = {\n",
        "        \"type\": \"Polygon\",\n",
        "        \"coordinates\": [\n",
        "            coordinates\n",
        "        ],\n",
        "    }\n",
        "\n",
        "    # Convert the GeoJSON geometry into a shapely geometry\n",
        "    shapely_geometry = shape(geojson_geometry)\n",
        "    # Create a GeoDataFrame with the shapely geometry\n",
        "    # Note that the Coordinate Reference System (CRS) defines how the two-dimensional,\n",
        "    # projected geometry relates to real world locations.\n",
        "    gdf = gpd.GeoDataFrame([{\"geometry\": shapely_geometry}], crs=\"EPSG:4326\")\n",
        "\n",
        "    # Calculate the centroid of your GeoDataFrame to center the map\n",
        "    centroid = gdf.geometry.centroid.unary_union.centroid\n",
        "\n",
        "    # Create a folium map centered on the centroid of your shapefile\n",
        "    m = folium.Map(location=[centroid.y, centroid.x], zoom_start=10)\n",
        "\n",
        "    # Add the GeoDataFrame as a layer to the folium map\n",
        "    folium.GeoJson(gdf, name=\"geojson\").add_to(m)\n",
        "\n",
        "    # Add layer control to toggle the geojson layer\n",
        "    folium.LayerControl().add_to(m)\n",
        "\n",
        "    # Display the map\n",
        "    print(\"location of \" + location + \":\")\n",
        "    m\n",
        "\n",
        "    return shapely_geometry"
      ],
      "metadata": {
        "id": "pRP5Mfutlk9e"
      },
      "execution_count": null,
      "outputs": []
    },
    {
      "cell_type": "code",
      "source": [
        "'''\n",
        "Function -- get_sentinel2_data\n",
        "    Download Sentinel-2 data from the Earth Platform.\n",
        "Parameters:\n",
        "    client -- client of the API\n",
        "    aoi -- area of interest in shapely geometry\n",
        "    start_date -- start date of the search\n",
        "    end_date -- end date of the search\n",
        "    cloud_cover -- cloud cover threshold\n",
        "    max_items -- maximum number of items to be returned per page\n",
        "Return:\n",
        "    items -- a list of items that correspond to tiles found in the GeoDataFrame\n",
        "    gdf -- a GeoDataFrame of items\n",
        "'''\n",
        "def get_sentinel2_data(\n",
        "    client: Client,\n",
        "    aoi: dict,\n",
        "    start_date: str = \"2019-06-01\",\n",
        "    end_date: str = \"2019-09-30\",\n",
        "    cloud_cover: float = 3,\n",
        "    max_items: int = 50,\n",
        "    ):\n",
        "    \"\"\"\n",
        "    Download Sentinel-2 data from the Earth Platform.\n",
        "    \"\"\"\n",
        "    query = client.search(\n",
        "        collections=[\"sentinel-2-l2a\"],\n",
        "        datetime=f\"{start_date}T00:00:00.000000Z/{end_date}T00:00:00.000000Z\",  # 2023-07-10T00:00:00.000000Z/2023-07-20T00:00:00.000000Z\n",
        "        intersects=aoi,  # The area of interest; you can also query by bbox, or other geometry\n",
        "        query={\"eo:cloud_cover\": {\"lte\": cloud_cover}},\n",
        "        sortby=[\n",
        "            {\n",
        "                \"field\": \"properties.eo:cloud_cover\",\n",
        "                \"direction\": \"asc\",\n",
        "            },  # Sort by cloud cover from lowest to highest\n",
        "        ],\n",
        "        limit=max_items,  # This is the number of items to be returned per page\n",
        "        max_items=max_items,  # This is number of items to page over\n",
        "    )\n",
        "    items = list(query.items())\n",
        "    if len(items) == 0:\n",
        "        raise Exception(\n",
        "            \"No items found, try enlarging search area or increasing cloud cover threshold.\"\n",
        "        )\n",
        "    print(f\"Found: {len(items):d} tiles.\")\n",
        "\n",
        "    # Convert STAC items into a GeoJSON FeatureCollection\n",
        "    stac_json = query.item_collection_as_dict()\n",
        "    gdf = gpd.GeoDataFrame.from_features(stac_json, crs=\"EPSG:4326\")\n",
        "\n",
        "    return items, gdf"
      ],
      "metadata": {
        "id": "kWbLfBTYrH2U"
      },
      "execution_count": null,
      "outputs": []
    },
    {
      "cell_type": "code",
      "source": [
        "'''\n",
        "Function -- peek_sentinel_items\n",
        "    Take a look at the metadata of the first sentinel items\n",
        "    and display the indices and id of all the items\n",
        "Parameters:\n",
        "    items -- a list of items that correspond to tiles found in the GeoDataFrame\n",
        "'''\n",
        "def peek_sentinel_items(items):\n",
        "    print(\"\\nIndices and IDs of all the sentinel items:\")\n",
        "    counter = 0\n",
        "    for item in items:\n",
        "      print(\"Index \", counter, \": \", item.id)\n",
        "      counter += 1"
      ],
      "metadata": {
        "id": "OUu-T9BJC8UP"
      },
      "execution_count": null,
      "outputs": []
    },
    {
      "cell_type": "code",
      "source": [
        "'''\n",
        "helper functions for the cell below\n",
        "'''\n",
        "\n",
        "def download_file(href: str, outpath: Path):\n",
        "    \"\"\"\n",
        "    Given a URL, download the file to the specified path.\n",
        "    \"\"\"\n",
        "    with requests.get(href, stream=True) as r:\n",
        "        r.raise_for_status()\n",
        "        with open(outpath, \"wb\") as f:\n",
        "            for chunk in r.iter_content(chunk_size=8192):\n",
        "                f.write(chunk)\n",
        "\n",
        "def download_files_for_item(\n",
        "    item: Item, asset_dict: dict[str, str], outpath: Path, debug: bool = True\n",
        ") -> bool:\n",
        "    \"\"\"\n",
        "    Save all files of interest for a given item.\n",
        "\n",
        "    If one file fails to download return False, otherwise return True.\n",
        "    \"\"\"\n",
        "\n",
        "    for key, value in asset_dict.items():\n",
        "        if debug:\n",
        "          print(f\"Downloading {key} and relabeling to {value}\")\n",
        "        if key in item.assets:\n",
        "            if key in [\"tileinfo_metadata\"]:\n",
        "                file_outpath = outpath / f\"{value}.json\"\n",
        "            else:\n",
        "                file_outpath = outpath / f\"{value}.tiff\"\n",
        "            if not file_outpath.exists():\n",
        "                try:\n",
        "                    download_file(item.assets[key].href, file_outpath)\n",
        "                except requests.ConnectionError:\n",
        "                    print(\n",
        "                        f\"Failed to download {item.assets[key].href} for item {item.id}\"\n",
        "                    )\n",
        "                    return False\n",
        "                except requests.exceptions.ReadTimeout:\n",
        "                    print(\n",
        "                        f\"Experienced a read timeout for {item.assets[key].href} for item {item.id}\"\n",
        "                    )\n",
        "                    return False\n",
        "            else:\n",
        "                print(f\"Skipping {item.assets[key].href} as it already exists.\")\n",
        "\n",
        "    return True"
      ],
      "metadata": {
        "id": "GpTv2qNnNA1u"
      },
      "execution_count": null,
      "outputs": []
    },
    {
      "cell_type": "code",
      "source": [
        "'''\n",
        "Function -- download_and_tile_files\n",
        "    Given a GeoDataFrame of items and a list of STAC items, download the\n",
        "    files to a output directory created by the given location name.\n",
        "Parameters:\n",
        "    items: A list of items that correspond to tiles found in the GeoDataFrame\n",
        "    download_files: A dictionary of strings where the keys correspond to names of items on the Earth Platform\n",
        "        and the values correspond to their Sentinel-2 name.\n",
        "    location: A string that is the name of the location connected with underscores e.g. 'garibaldi_lake'\n",
        "'''\n",
        "def download_and_tile_files(items: list[Item], download_files: dict[str, str], location: str):\n",
        "    \"\"\"\n",
        "    Given a GeoDataFrame of items and a list of STAC items, download the\n",
        "    files to a given output directory.\n",
        "\n",
        "    Parameters:\n",
        "      items: A list of items that correspond to tiles found in the GeoDataFrame and include paths to files to be\n",
        "        downloaded in this function.\n",
        "      download_files: A dictionary of strings where the keys correspond to names of items on the Earth Platform\n",
        "        and the values correspond to their Sentinel-2 name.\n",
        "    \"\"\"\n",
        "    # delete the folder if it already exists\n",
        "    output_dir = Path(f\"/content/sentinel_tiles\")\n",
        "    outpath = output_dir / location\n",
        "    if os.path.exists(outpath):\n",
        "        shutil.rmtree(outpath)\n",
        "    outpath.mkdir(exist_ok=True, parents=True)\n",
        "\n",
        "    downloaded = 0\n",
        "    for index, tile in enumerate(items):\n",
        "        downloaded = download_files_for_item(tile, download_files, outpath)\n",
        "\n",
        "        if downloaded:\n",
        "            downloaded += 1\n",
        "        else:\n",
        "            print(f\"Unable to download file for item with id: {tile.id} at index: {index} in items list.\")\n",
        "\n",
        "    print(\n",
        "        f\"Downloaded all bands for {downloaded} tiles. Failed to download at least one \"\n",
        "        + f\"band or file for {len(items) - downloaded} tiles.\"\n",
        "    )"
      ],
      "metadata": {
        "id": "nfgein6-JgZa"
      },
      "execution_count": null,
      "outputs": []
    },
    {
      "cell_type": "code",
      "source": [
        "'''\n",
        "Function -- get_ground_truth\n",
        "    open and resized the ground truth image\n",
        "Parameters:\n",
        "    location -- a string that is the name of the location connected with underscores e.g. 'garibaldi_lake'\n",
        "Return:\n",
        "    resized_ground_truth -- a numpy array of the ground truth image\n",
        "'''\n",
        "def get_ground_truth(location: str):\n",
        "    ground_truth_path = '/content/ground_truth/' + location + '.tif'\n",
        "    ground_truth = Image.open(ground_truth_path)\n",
        "    ground_truth_array = np.array(ground_truth)\n",
        "\n",
        "    b04_size = tiff.imread(f\"/content/sentinel_tiles/{location}/cropped/B04.tiff\").shape\n",
        "\n",
        "    resized_ground_truth = cv2.resize(ground_truth_array, b04_size[::-1])\n",
        "\n",
        "    return resized_ground_truth"
      ],
      "metadata": {
        "id": "mQvBhy9UfddQ"
      },
      "execution_count": null,
      "outputs": []
    },
    {
      "cell_type": "markdown",
      "source": [
        "#### 1-2-2. Data Processing Functions"
      ],
      "metadata": {
        "id": "RJyY8znNfO_r"
      }
    },
    {
      "cell_type": "code",
      "source": [
        "'''\n",
        "Function --  crop_and_visualize\n",
        "    crop the .tiff files according to the given coordinates\n",
        "    visualize the cropped .tiff files\n",
        "Parameters:\n",
        "    location -- a string that is the name of the location connected with underscores e.g. 'garibaldi_lake'\n",
        "    coordinates -- a list of coordinates that form the area to be displayed\n",
        "        e.g. [[lon1, lat1], [lon2, lat2], ...]\n",
        "        generate at https://geojson.io/\n",
        "'''\n",
        "\n",
        "def crop_and_visualize(location: str, coordinates):\n",
        "    # Directory containing the .tiff files (update with your input path)\n",
        "    input_directory = '/content/sentinel_tiles/' + location\n",
        "\n",
        "    # Directory to save the cropped .tiff files\n",
        "    output_directory = '/content/sentinel_tiles/' + location + '/cropped'\n",
        "\n",
        "    # Ensure a new empty output directory exists\n",
        "    if os.path.exists(output_directory):\n",
        "        shutil.rmtree(output_directory)\n",
        "    os.makedirs(output_directory)\n",
        "\n",
        "    # List of bands to crop\n",
        "    bands = [\n",
        "        \"B02.tiff\", \"B03.tiff\", \"B04.tiff\", \"B05.tiff\", \"B06.tiff\", \"B07.tiff\",\n",
        "        \"B08.tiff\", \"B11.tiff\", \"B12.tiff\", \"B8A.tiff\",\n",
        "    ]\n",
        "\n",
        "    for band in bands:\n",
        "        input_path = os.path.join(input_directory, band)\n",
        "        output_path = os.path.join(output_directory, band)\n",
        "\n",
        "        with rasterio.open(input_path) as src:\n",
        "            # Get the CRS of the image\n",
        "            image_crs = src.crs\n",
        "\n",
        "            # Create a transformer to convert from latitude/longitude to the image's CRS\n",
        "            transformer = Transformer.from_crs(\"EPSG:4326\", image_crs, always_xy=True)\n",
        "\n",
        "            # Convert the polygon coordinates\n",
        "            transformed_coords = [transformer.transform(lon, lat) for lon, lat in coordinates]\n",
        "\n",
        "            # Create a polygon\n",
        "            polygon = Polygon(transformed_coords)\n",
        "            geojson_polygon = [mapping(polygon)]\n",
        "\n",
        "            # Mask and crop the image using the polygon\n",
        "            out_image, out_transform = mask(src, geojson_polygon, crop=True)\n",
        "\n",
        "            # Update the metadata to reflect the new dimensions and transform\n",
        "            out_meta = src.meta.copy()\n",
        "            out_meta.update({\n",
        "                \"driver\": \"GTiff\",\n",
        "                \"height\": out_image.shape[1],\n",
        "                \"width\": out_image.shape[2],\n",
        "                \"transform\": out_transform\n",
        "            })\n",
        "\n",
        "            # Write the cropped data to a new file\n",
        "            with rasterio.open(output_path, \"w\", **out_meta) as dest:\n",
        "                dest.write(out_image)\n",
        "\n",
        "    print(\"Cropping complete!\")\n",
        "\n",
        "    # Loop through the bands and plot each cropped .tiff file\n",
        "    for band_name in bands:\n",
        "        file_path = f'{output_directory}/{band_name}'\n",
        "        with rasterio.open(file_path) as src:\n",
        "            band = src.read(1)\n",
        "            plt.figure(figsize=(10, 10))\n",
        "            plt.title(band_name)\n",
        "            plt.imshow(band, cmap='viridis', norm=Normalize(vmin=band.min(), vmax=band.max()))\n",
        "            plt.colorbar()\n",
        "            plt.axis('off')\n",
        "            plt.show()"
      ],
      "metadata": {
        "id": "i3ZgoDxCNhZ4"
      },
      "execution_count": null,
      "outputs": []
    },
    {
      "cell_type": "code",
      "source": [
        "'''\n",
        "helper functions for the cell below\n",
        "'''\n",
        "\n",
        "def display_images(image_dict):\n",
        "    fig, axes = plt.subplots(2, 3, figsize=(24, 16))\n",
        "    fig.tight_layout()\n",
        "\n",
        "    for i, (title, image) in enumerate(image_dict.items()):\n",
        "        row = i // 3\n",
        "        col = i % 3\n",
        "        axes[row, col].imshow(image)\n",
        "        axes[row, col].set_title(title)\n",
        "        axes[row, col].axis(\"off\")\n",
        "\n",
        "    plt.show()\n",
        "\n",
        "def brighten(band: np.ndarray):\n",
        "    \"\"\"Adjust image brightness using an alpha value (0 to 1). Higher alpha increases brightness, lower decreases.\"\"\"\n",
        "\n",
        "    alpha=0.2 # you can change this value\n",
        "    beta=0\n",
        "    return np.clip(alpha*band+beta, 0,255)\n",
        "\n",
        "def normalize(band: np.ndarray) -> np.ndarray:\n",
        "    \"\"\"\n",
        "    First brighten the bands and then return normalized image\n",
        "    \"\"\"\n",
        "    band = brighten(band)\n",
        "    band_min, band_max = (band.min(), band.max())\n",
        "\n",
        "    return ((band-band_min)/((band_max - band_min)))"
      ],
      "metadata": {
        "id": "SlBpnzNjdROb"
      },
      "execution_count": null,
      "outputs": []
    },
    {
      "cell_type": "code",
      "source": [
        "'''\n",
        "Function -- generate_spectral_images\n",
        "    generate RGB and spectral images from the cropped .tiff files\n",
        "Parameters:\n",
        "    location -- a string that is the name of the location connected with underscores e.g. 'garibaldi_lake'\n",
        "Return:\n",
        "    spectral_images -- a dictionary of images that are NDVI, NDVI705, NDBI, NDWI, NBR, RGB\n",
        "'''\n",
        "def generate_spectral_images(location: str):\n",
        "    data_path = '/content/sentinel_tiles/' + location + '/cropped'\n",
        "    # Unpack the bands\n",
        "    band_size = tiff.imread(f\"{data_path}/B02.tiff\").shape\n",
        "    print(band_size)\n",
        "\n",
        "    B02 = normalize(\n",
        "            tiff.imread(f\"{data_path}/B02.tiff\"),)\n",
        "    B03 = normalize(\n",
        "            tiff.imread(f\"{data_path}/B03.tiff\"),)\n",
        "    B04 = normalize(\n",
        "            tiff.imread(f\"{data_path}/B04.tiff\"),)\n",
        "    B05 = normalize(\n",
        "            cv2.resize(\n",
        "                tiff.imread(f\"{data_path}/B05.tiff\"),\n",
        "                band_size[::-1]# make sure the dimensions of B11 is the same as the other bands after resizing\n",
        "            ))\n",
        "    B08 = normalize(\n",
        "            tiff.imread(f\"{data_path}/B08.tiff\"),)\n",
        "\n",
        "    B11 = normalize(\n",
        "            cv2.resize(\n",
        "                tiff.imread(f\"{data_path}/B11.tiff\"),\n",
        "                band_size[::-1]# make sure the dimensions of B11 is the same as the other bands after resizing\n",
        "            ))\n",
        "\n",
        "    B12 = normalize(\n",
        "            cv2.resize(\n",
        "                tiff.imread(f\"{data_path}/B12.tiff\"),\n",
        "                band_size[::-1]\n",
        "            ))\n",
        "\n",
        "    # Calculate NDVI (Normalized Difference Vegetation Index)\n",
        "    NDVI = (B08 - B04) / (B08 + B04)\n",
        "\n",
        "    # Calculate NDVI705\n",
        "    NDVI705 = (B05 - B04) / (B05 + B04)\n",
        "\n",
        "    # Calculate NDBI (Normalized Difference Built-Up Index)\n",
        "    NDBI = (B11 - B08) / (B11 + B08)\n",
        "\n",
        "    # # Calculate NDWI (Normalized Difference Water Index)\n",
        "    NDWI = (B08 - B12) / (B08 + B12)\n",
        "\n",
        "    # # Calculate NBR (Normalized Burn Ratio)\n",
        "    NBR = (B08 - B12) / (B08 + B12)\n",
        "\n",
        "    # Create a color image using RGB bands\n",
        "    RGB = np.stack([B04, B03, B02], axis=-1)\n",
        "\n",
        "    spectral_images = {\n",
        "        \"NDVI\": NDVI,\n",
        "        \"NDVI705\": NDVI705,\n",
        "        \"NDBI\": NDBI,\n",
        "        \"NDWI\": NDWI,\n",
        "        \"NBR\": NBR,\n",
        "        \"RGB\": RGB,\n",
        "    }\n",
        "\n",
        "    display_images(spectral_images)\n",
        "\n",
        "    return spectral_images"
      ],
      "metadata": {
        "id": "q9de_BcjdBXs"
      },
      "execution_count": null,
      "outputs": []
    },
    {
      "cell_type": "markdown",
      "source": [
        "#### 1-2-3. Method Applying Functions"
      ],
      "metadata": {
        "id": "RTbDC4FVp0L7"
      }
    },
    {
      "cell_type": "code",
      "source": [
        "'''\n",
        "texture extraction methods\n",
        "'''\n",
        "\n",
        "# convert the given rgb image to unit 8 bit image\n",
        "def convert_rgb(rgb_image):\n",
        "    converted_rgb = copy.deepcopy(rgb_image)\n",
        "    converted_rgb *= 255\n",
        "    converted_rgb = converted_rgb // 1\n",
        "    converted_rgb = converted_rgb.astype(np.uint8)\n",
        "    return converted_rgb\n",
        "\n",
        "def laplacian(rgb_image, kernel_size = 5):\n",
        "    greyscale = cv2.cvtColor(rgb_image, cv2.COLOR_RGB2GRAY)\n",
        "    result = cv2.Laplacian(greyscale, cv2.CV_8U, ksize=kernel_size)  # kernel size may be affected by image resolution\n",
        "\n",
        "    return result\n",
        "\n",
        "# # Parameters for Gabor filter\n",
        "# ksize -- Kernel size\n",
        "# sigma -- Standard deviation of the Gaussian function\n",
        "# theta -- Orientation of the normal to the parallel stripes\n",
        "# lambd -- Wavelength of the sinusoidal factor\n",
        "# gamma -- Spatial aspect ratio\n",
        "# psi -- Phase offset\n",
        "def gabor(rgb_image, ksize = 31, sigma = 4.0, theta = np.pi/4, lambd = 10.0, gamma = 0.5, psi = 0):\n",
        "    greyscale = cv2.cvtColor(rgb_image, cv2.COLOR_RGB2GRAY)\n",
        "    # Create Gabor kernel and apply filter\n",
        "    gabor_kernel = cv2.getGaborKernel((ksize, ksize), sigma, theta, lambd, gamma, psi, ktype=cv2.CV_32F)\n",
        "    result = cv2.filter2D(greyscale, cv2.CV_8UC3, gabor_kernel)\n",
        "\n",
        "    return result\n",
        "\n",
        "def sobel(rgb_image, kernel_size = 5):\n",
        "    greyscale = cv2.cvtColor(rgb_image, cv2.COLOR_RGB2GRAY)\n",
        "\n",
        "    # Calculate the Sobel gradients in the x and y directions\n",
        "    sobelx = cv2.Sobel(greyscale, cv2.CV_32F, 1, 0, ksize=kernel_size)\n",
        "    sobely = cv2.Sobel(greyscale, cv2.CV_32F, 0, 1, ksize=kernel_size)\n",
        "\n",
        "    # Combine the Sobel gradients to get the overall edge response\n",
        "    sobel_combined = cv2.magnitude(sobelx, sobely)\n",
        "\n",
        "    # Convert the result back to 8-bit for display purposes\n",
        "    sobel_combined = cv2.convertScaleAbs(sobel_combined)\n",
        "\n",
        "    return sobel_combined\n",
        "\n",
        "def close(grayscale_image, kernel_size = (5, 5)):\n",
        "    kernel = np.ones(kernel_size, np.uint8)\n",
        "    result = cv2.morphologyEx(grayscale_image, cv2.MORPH_CLOSE, kernel)\n",
        "\n",
        "    return result"
      ],
      "metadata": {
        "id": "iH5MocKauja2"
      },
      "execution_count": null,
      "outputs": []
    },
    {
      "cell_type": "code",
      "source": [
        "'''\n",
        "Function -- apply_algorithm\n",
        "    apply the algorithm, visualize the results, write the results to summary_dict\n",
        "Parameters:\n",
        "    location -- a string that is the name of the location connected with underscores e.g. 'garibaldi_lake'\n",
        "    rgb -- a numpy array of the RGB image\n",
        "    ndvi -- a numpy array of the NDVI image\n",
        "    ground_truth -- a numpy array of the ground truth image\n",
        "    texture_method -- the name of the chosen method to extract the texture value\n",
        "        available options: 'laplacian', 'sobel', 'gabor'\n",
        "    texture_threshold -- the threshold texture value for identifying forest\n",
        "    ndvi_threshold -- the threshold NDVI value for identifying forest\n",
        "    summary_dict -- a nested dictionary that stores the results all experiments\n",
        "'''\n",
        "def apply_algorithm(location: str, rgb, ndvi, ground_truth, texture_method, texture_threshold, ndvi_threshold, summary_dict):\n",
        "    forest_colors_in_groundtruth = [[153, 51, 204], [0, 102, 0], [0, 204, 0], [204, 153,0]]\n",
        "    truth = []\n",
        "    prediction = []\n",
        "\n",
        "    fig, axes = plt.subplots(2, 3, figsize=(24, 16))\n",
        "\n",
        "    # ground truth\n",
        "    axes[0][0].imshow(ground_truth)\n",
        "    axes[0][0].set_title(\"Ground Truth\", fontsize=30)\n",
        "    axes[0][0].axis(\"off\")\n",
        "\n",
        "    rgb = convert_rgb(rgb)\n",
        "    # texture\n",
        "    if texture_method == 'sobel':\n",
        "        texture = sobel(rgb)\n",
        "        axes[0][1].imshow(texture, cmap='gray')\n",
        "        axes[0][1].set_title(\"sobel\", fontsize=30)\n",
        "        axes[0][1].axis(\"off\")\n",
        "    else:\n",
        "      if texture_method == 'laplacian':\n",
        "          texture = laplacian(rgb)\n",
        "          texture = close(texture)\n",
        "          axes[0][1].imshow(texture, cmap='gray')\n",
        "          axes[0][1].set_title(\"laplacian+closing\", fontsize=30)\n",
        "          axes[0][1].axis(\"off\")\n",
        "      elif texture_method == 'gabor':\n",
        "          texture = gabor(rgb)\n",
        "          texture = close(texture)\n",
        "          axes[0][1].imshow(texture, cmap='gray')\n",
        "          axes[0][1].set_title(\"gabor+closing\", fontsize=30)\n",
        "          axes[0][1].axis(\"off\")\n",
        "\n",
        "    # ndvi\n",
        "    axes[0][2].imshow(ndvi)\n",
        "    axes[0][2].set_title(\"NDVI\", fontsize=30)\n",
        "    axes[0][2].axis(\"off\")\n",
        "\n",
        "    # identification\n",
        "    identification = rgb.copy()\n",
        "\n",
        "    false_positive = rgb.copy()\n",
        "    false_positive_overlay = np.zeros_like(rgb, dtype=np.uint8)\n",
        "\n",
        "    false_negative = rgb.copy()\n",
        "    false_negative_overlay = np.zeros_like(rgb, dtype=np.uint8)\n",
        "\n",
        "    for i in range(rgb.shape[0]):\n",
        "        for j in range(rgb.shape[1]):\n",
        "            if texture[i][j] > texture_threshold and ndvi[i][j] > ndvi_threshold:\n",
        "                identification[i][j] = [255, 0, 0]\n",
        "                prediction.append(1)\n",
        "            else:\n",
        "                prediction.append(0)\n",
        "\n",
        "            if [ground_truth[i][j][0], ground_truth[i][j][1], ground_truth[i][j][2]] in forest_colors_in_groundtruth:\n",
        "                truth.append(1)\n",
        "            else:\n",
        "                truth.append(0)\n",
        "\n",
        "            if prediction[-1] == 0 and truth[-1] == 1:\n",
        "                false_negative_overlay[i][j] = [255, 0, 0]\n",
        "            elif prediction[-1] == 1 and truth[-1] == 0:\n",
        "                false_positive_overlay[i][j] = [255, 0, 0]\n",
        "\n",
        "    alpha = 0.7\n",
        "    false_positive = cv2.addWeighted(false_positive_overlay, alpha, false_positive, 1, 0)\n",
        "    false_negative = cv2.addWeighted(false_negative_overlay, alpha, false_negative, 1, 0)\n",
        "\n",
        "    axes[1][0].imshow(identification)\n",
        "    axes[1][0].set_title(\"Forest Identification\", fontsize=30)\n",
        "    axes[1][0].axis(\"off\")\n",
        "\n",
        "    axes[1][1].imshow(false_positive)\n",
        "    axes[1][1].set_title(\"False Positive\", fontsize=30)\n",
        "    axes[1][1].axis(\"off\")\n",
        "\n",
        "    axes[1][2].imshow(false_negative)\n",
        "    axes[1][2].set_title(\"False Negative\", fontsize=30)\n",
        "    axes[1][2].axis(\"off\")\n",
        "\n",
        "    plt.show()\n",
        "\n",
        "    # confusion matrix\n",
        "    cmatrix = confusion_matrix(truth, prediction)\n",
        "    confusion_matrix_display = ConfusionMatrixDisplay(confusion_matrix=cmatrix, display_labels=[\"Non-Forest\", \"Forest\"])\n",
        "    confusion_matrix_display.plot(values_format='', cmap='Greens')\n",
        "    plt.title(\"Confusion Matrix for Forest Identification\")\n",
        "    plt.show()\n",
        "\n",
        "    # metrics: accuracy, precision, recall, f1, kappa\n",
        "    # visualize and save to summary_dict\n",
        "    accuracy = accuracy_score(truth, prediction)\n",
        "    precision = precision_score(truth, prediction)\n",
        "    recall = recall_score(truth, prediction)\n",
        "    f1 = f1_score(truth, prediction)\n",
        "    kappa = cohen_kappa_score(truth, prediction)\n",
        "\n",
        "    summary_dict[location][texture_method]['accuracy'] = accuracy\n",
        "    summary_dict[location][texture_method]['precision'] = precision\n",
        "    summary_dict[location][texture_method]['recall'] = recall\n",
        "    summary_dict[location][texture_method]['f1'] = f1\n",
        "    summary_dict[location][texture_method]['kappa'] = kappa\n",
        "\n",
        "    data = {\n",
        "        'Metric': ['Accuracy', 'Precision', 'Recall', 'F1', 'Kappa'],\n",
        "        'Value': [accuracy, precision, recall, f1, kappa]\n",
        "    }\n",
        "    df = pd.DataFrame(data)\n",
        "\n",
        "    fig, ax = plt.subplots(figsize=(6, 2))\n",
        "    ax.axis('tight')\n",
        "    ax.axis('off')\n",
        "    table = ax.table(cellText=df.values, colLabels=df.columns, cellLoc='center', loc='center')\n",
        "\n",
        "    plt.title(\"Evaluation Metrics\", fontsize=16, pad=20)\n",
        "\n",
        "    plt.show()"
      ],
      "metadata": {
        "id": "tRl-Z2pvp-s3"
      },
      "execution_count": null,
      "outputs": []
    },
    {
      "cell_type": "code",
      "source": [
        "'''\n",
        "Function -- visualize_summary_dict\n",
        "    visualize the summary_dict with a table and a curve chart for each location\n",
        "'''\n",
        "\n",
        "def visualize_summary_dict(summary_dict):\n",
        "    # Iterate over each location in the summary_dict\n",
        "    for location in summary_dict:\n",
        "        methods = list(summary_dict[location].keys())\n",
        "        metrics = list(summary_dict[location][methods[0]].keys())\n",
        "\n",
        "        # Create a DataFrame to store the metrics for the current location\n",
        "        data = {method: [summary_dict[location][method][metric] for metric in metrics] for method in methods}\n",
        "        df = pd.DataFrame(data, index=metrics).T  # Transpose so that metrics are columns\n",
        "\n",
        "        # Create a one-row-two-column plot\n",
        "        fig, (ax1, ax2) = plt.subplots(1, 2, figsize=(18, 6))\n",
        "\n",
        "        # Plot the table\n",
        "        ax1.axis('tight')\n",
        "        ax1.axis('off')\n",
        "        table = ax1.table(cellText=df.values, colLabels=metrics, rowLabels=methods, cellLoc='center', loc='center')\n",
        "        ax1.set_title(f\"Metrics Table for {location}\", fontsize=16, pad=20)\n",
        "\n",
        "        # Plot the curve chart\n",
        "        for method in methods:\n",
        "            ax2.plot(metrics, df.loc[method], marker='o', label=method)\n",
        "\n",
        "        ax2.set_title(f\"Metrics Curves for {location}\", fontsize=16)\n",
        "        ax2.set_xlabel(\"Metrics\")\n",
        "        ax2.set_ylabel(\"Values\")\n",
        "        ax2.legend(title=\"Methods\")\n",
        "        ax2.grid(True)\n",
        "\n",
        "        # Display the plot\n",
        "        plt.tight_layout()\n",
        "        plt.show()"
      ],
      "metadata": {
        "id": "oYhd9iTQz_-Q"
      },
      "execution_count": null,
      "outputs": []
    },
    {
      "cell_type": "markdown",
      "source": [
        "## 2. Preparation"
      ],
      "metadata": {
        "id": "50xAE3479ooY"
      }
    },
    {
      "cell_type": "markdown",
      "source": [
        "Before Everything: Download the 'ground_truth' folder from [GitHub Repository](https://github.com/kaycaimx/GreenGuardians/tree/main/ground_truth). Move it and the 'secrets.env' to the current directory."
      ],
      "metadata": {
        "id": "mZvg42GdgJPp"
      }
    },
    {
      "cell_type": "markdown",
      "source": [
        "### 2-1. Global Variables"
      ],
      "metadata": {
        "id": "GDAuQeA7RJLx"
      }
    },
    {
      "cell_type": "code",
      "source": [
        "# thresholds\n",
        "laplacian_threshold = 64\n",
        "gabor_threshold = 64\n",
        "sobel_threshold = 80\n",
        "ndvi_threshold = 0.585"
      ],
      "metadata": {
        "id": "GEm4k0LFONg_"
      },
      "execution_count": null,
      "outputs": []
    },
    {
      "cell_type": "code",
      "source": [
        "# api client\n",
        "client = get_api_client()"
      ],
      "metadata": {
        "id": "IaanJNAiX1rb"
      },
      "execution_count": null,
      "outputs": []
    },
    {
      "cell_type": "code",
      "source": [
        "# if the cell is rerun, rerunning all cells of \"3. Experiment\" is needed\n",
        "\n",
        "# summary dictionary\n",
        "summary_dict = nested_dict = defaultdict(lambda: defaultdict(lambda: defaultdict(float)))"
      ],
      "metadata": {
        "id": "j4zl5W24Rkqq"
      },
      "execution_count": null,
      "outputs": []
    },
    {
      "cell_type": "code",
      "source": [
        "# location to coordinates dictionary\n",
        "location_to_coordinates = {\n",
        "    'garibaldi_lake': [[-123.11679830457658,49.96048123499753],\n",
        "                       [-123.11679830457658,49.89344994731354],\n",
        "                       [-122.98558891107739,49.89344994731354],\n",
        "                       [-122.98558891107739,49.96048123499753],\n",
        "                       [-123.11679830457658,49.96048123499753]],\n",
        "    'joffre_lake': [[-122.50604002994187, 50.37180675672768],\n",
        "                    [-122.50604002994187, 50.34267450253444],\n",
        "                    [-122.46990530921299, 50.34267450253444],\n",
        "                    [-122.46990530921299, 50.37180675672768],\n",
        "                    [-122.50604002994187, 50.37180675672768]],\n",
        "    'pitt_meadows': [[-122.710543, 49.359739],\n",
        "                     [-122.710543, 49.293932],\n",
        "                     [-122.513177, 49.293932],\n",
        "                     [-122.513177, 49.359739],\n",
        "                     [-122.710543, 49.359739]],\n",
        "    'squamish_river': [[-123.265109, 49.733304],\n",
        "                       [-123.265109, 49.682254],\n",
        "                       [-123.130048, 49.682254],\n",
        "                       [-123.130048, 49.733304],\n",
        "                       [-123.265109, 49.733304]],\n",
        "    'magnum_mine': [[-125.22773492695391, 58.61666627427516],\n",
        "                    [-125.22773492695391, 58.505103068939604],\n",
        "                    [-124.92201156470674, 58.505103068939604],\n",
        "                    [-124.92201156470674, 58.61666627427516],\n",
        "                    [-125.22773492695391, 58.61666627427516]],\n",
        "    'okanagan': [[-119.41802379338398, 50.09514353328319],\n",
        "                 [-119.41802379338398, 50.044896274137415],\n",
        "                 [-119.30277738682935, 50.044896274137415],\n",
        "                 [-119.30277738682935, 50.09514353328319],\n",
        "                 [-119.41802379338398, 50.09514353328319]],\n",
        "    'vancouver_island': [[-128.11000410456677, 50.828615612651106],\n",
        "                         [-128.11000410456677, 50.76487417731673],\n",
        "                         [-127.96286271998287, 50.76487417731673],\n",
        "                         [-127.96286271998287, 50.828615612651106],\n",
        "                         [-128.11000410456677, 50.828615612651106]],\n",
        "    'abbotsford': [[-122.08909459981263, 49.09838991642172],\n",
        "            [-122.08909459981263, 49.02657685560854],\n",
        "            [-121.9538837206437, 49.02657685560854],\n",
        "            [-121.9538837206437, 49.09838991642172],\n",
        "            [-122.08909459981263, 49.09838991642172]],\n",
        "    'prince_george': [[-122.80737010729996, 53.947719249562965],\n",
        "            [-122.80737010729996, 53.886832581763144],\n",
        "            [-122.67207140284724, 53.886832581763144],\n",
        "            [-122.67207140284724, 53.947719249562965],\n",
        "            [-122.80737010729996, 53.947719249562965]]\n",
        "}"
      ],
      "metadata": {
        "id": "pSVLP4K0SpeF"
      },
      "execution_count": null,
      "outputs": []
    },
    {
      "cell_type": "code",
      "source": [
        "# set files to download\n",
        "high_resolution_bands = {\"red\": \"B04\", \"green\": \"B03\", \"blue\": \"B02\", \"nir\": \"B08\"}\n",
        "\n",
        "mid_resolution_bands = {\n",
        "    \"rededge1\": \"B05\",\n",
        "    \"rededge2\": \"B06\",\n",
        "    \"rededge3\": \"B07\",\n",
        "    \"nir08\": \"B8A\",\n",
        "    \"swir16\": \"B11\",\n",
        "    \"swir22\": \"B12\",\n",
        "}\n",
        "\n",
        "all_download_files = {\n",
        "    **high_resolution_bands,\n",
        "    **mid_resolution_bands,\n",
        "}"
      ],
      "metadata": {
        "id": "ZhJKMJ_NdOXK"
      },
      "execution_count": null,
      "outputs": []
    },
    {
      "cell_type": "markdown",
      "source": [
        "### 2-2. Convert Coordinate\n",
        "convert coordinates to shapely geometry<br>\n",
        "visualize the locations for check"
      ],
      "metadata": {
        "id": "gfwb3v1veOPk"
      }
    },
    {
      "cell_type": "code",
      "source": [
        "location_to_shapely_geometry = {}\n",
        "\n",
        "for location, coordinates in location_to_coordinates.items():\n",
        "    location_to_shapely_geometry[location] = get_shapely_geometry(location, coordinates)"
      ],
      "metadata": {
        "id": "co7eDmxMeqHo"
      },
      "execution_count": null,
      "outputs": []
    },
    {
      "cell_type": "markdown",
      "source": [
        "### 2-3. Peek Sentinel Data\n",
        "print basic infomation of the sentinel data for each location"
      ],
      "metadata": {
        "id": "AjDL2caTfiuc"
      }
    },
    {
      "cell_type": "code",
      "source": [
        "for location, aoi in location_to_shapely_geometry.items():\n",
        "  print('='*30)\n",
        "  print(\"Sentinel data of \" + location)\n",
        "  print('='*30)\n",
        "  sentinel_items, _ = get_sentinel2_data(client, aoi)\n",
        "  peek_sentinel_items(sentinel_items)\n",
        "  print('\\n'*2)"
      ],
      "metadata": {
        "id": "zsMOppn2f2ir"
      },
      "execution_count": null,
      "outputs": []
    },
    {
      "cell_type": "markdown",
      "source": [
        "### 2-4. Download Sentinel Data\n",
        "refer to the print results of \"2-3. Peek Sentinel Data\" when choosing item index"
      ],
      "metadata": {
        "id": "JUnD-LInFGgB"
      }
    },
    {
      "cell_type": "markdown",
      "source": [
        "#### 2-4-1. Garibaldi Lake"
      ],
      "metadata": {
        "id": "We7a3rJ5FbK_"
      }
    },
    {
      "cell_type": "code",
      "source": [
        "item_index = 6\n",
        "location = 'garibaldi_lake'"
      ],
      "metadata": {
        "id": "BH1jmpDpFaHm"
      },
      "execution_count": null,
      "outputs": []
    },
    {
      "cell_type": "code",
      "source": [
        "# download\n",
        "sentinel_items, _ = get_sentinel2_data(client, location_to_shapely_geometry[location])\n",
        "item = sentinel_items[item_index:item_index + 1]\n",
        "download_and_tile_files(item, all_download_files, location)\n",
        "\n",
        "#crop\n",
        "crop_and_visualize(location, location_to_coordinates[location])"
      ],
      "metadata": {
        "id": "rIll057UGSzH"
      },
      "execution_count": null,
      "outputs": []
    },
    {
      "cell_type": "markdown",
      "source": [
        "#### 2-4-2. Joffre Lake"
      ],
      "metadata": {
        "id": "gWxf0-h-KHcQ"
      }
    },
    {
      "cell_type": "code",
      "source": [
        "item_index = 1\n",
        "location = 'joffre_lake'"
      ],
      "metadata": {
        "id": "D07z0iiZKHcQ"
      },
      "execution_count": null,
      "outputs": []
    },
    {
      "cell_type": "code",
      "source": [
        "# download\n",
        "sentinel_items, _ = get_sentinel2_data(client, location_to_shapely_geometry[location])\n",
        "item = sentinel_items[item_index:item_index + 1]\n",
        "download_and_tile_files(item, all_download_files, location)\n",
        "\n",
        "#crop\n",
        "crop_and_visualize(location, location_to_coordinates[location])"
      ],
      "metadata": {
        "id": "uxFMYWLaKHcQ"
      },
      "execution_count": null,
      "outputs": []
    },
    {
      "cell_type": "code",
      "source": [
        "item_index = 6\n",
        "location = 'garibaldi_lake'"
      ],
      "metadata": {
        "id": "i4V9k6Q8KF1y"
      },
      "execution_count": null,
      "outputs": []
    },
    {
      "cell_type": "code",
      "source": [
        "# download\n",
        "sentinel_items, _ = get_sentinel2_data(client, location_to_shapely_geometry[location])\n",
        "item = sentinel_items[item_index:item_index + 1]\n",
        "download_and_tile_files(item, all_download_files, location)\n",
        "\n",
        "#crop\n",
        "crop_and_visualize(location, location_to_coordinates[location])"
      ],
      "metadata": {
        "id": "sEU-xFQUKF1y"
      },
      "execution_count": null,
      "outputs": []
    },
    {
      "cell_type": "markdown",
      "source": [
        "#### 2-4-3. Pitt Meadows"
      ],
      "metadata": {
        "id": "ihykUYqGKHhN"
      }
    },
    {
      "cell_type": "code",
      "source": [
        "item_index = 0\n",
        "location = 'pitt_meadows'"
      ],
      "metadata": {
        "id": "rVWGq1MHKHhO"
      },
      "execution_count": null,
      "outputs": []
    },
    {
      "cell_type": "code",
      "source": [
        "# download\n",
        "sentinel_items, _ = get_sentinel2_data(client, location_to_shapely_geometry[location])\n",
        "item = sentinel_items[item_index:item_index + 1]\n",
        "download_and_tile_files(item, all_download_files, location)\n",
        "\n",
        "#crop\n",
        "crop_and_visualize(location, location_to_coordinates[location])"
      ],
      "metadata": {
        "id": "Q3PIbjjVKHhO"
      },
      "execution_count": null,
      "outputs": []
    },
    {
      "cell_type": "markdown",
      "source": [
        "#### 2-4-4. Squamish River"
      ],
      "metadata": {
        "id": "cfMv9YM2KGiJ"
      }
    },
    {
      "cell_type": "code",
      "source": [
        "item_index = 1\n",
        "location = 'squamish_river'"
      ],
      "metadata": {
        "id": "c1CoREExKGiK"
      },
      "execution_count": null,
      "outputs": []
    },
    {
      "cell_type": "code",
      "source": [
        "# download\n",
        "sentinel_items, _ = get_sentinel2_data(client, location_to_shapely_geometry[location])\n",
        "item = sentinel_items[item_index:item_index + 1]\n",
        "download_and_tile_files(item, all_download_files, location)\n",
        "\n",
        "#crop\n",
        "crop_and_visualize(location, location_to_coordinates[location])"
      ],
      "metadata": {
        "id": "k8YlWwS7KGiK"
      },
      "execution_count": null,
      "outputs": []
    },
    {
      "cell_type": "markdown",
      "source": [
        "#### 2-4-5. Magnum Mine"
      ],
      "metadata": {
        "id": "AewNe1y7KHHr"
      }
    },
    {
      "cell_type": "code",
      "source": [
        "item_index = 4\n",
        "location = 'magnum_mine'"
      ],
      "metadata": {
        "id": "LImZDpLKKHHr"
      },
      "execution_count": null,
      "outputs": []
    },
    {
      "cell_type": "code",
      "source": [
        "# download\n",
        "sentinel_items, _ = get_sentinel2_data(client, location_to_shapely_geometry[location])\n",
        "item = sentinel_items[item_index:item_index + 1]\n",
        "download_and_tile_files(item, all_download_files, location)\n",
        "\n",
        "#crop\n",
        "crop_and_visualize(location, location_to_coordinates[location])"
      ],
      "metadata": {
        "id": "9kvnmEerKHHr"
      },
      "execution_count": null,
      "outputs": []
    },
    {
      "cell_type": "markdown",
      "source": [
        "#### 2-4-6. okanagan"
      ],
      "metadata": {
        "id": "29dbrXh3KHQL"
      }
    },
    {
      "cell_type": "code",
      "source": [
        "item_index = 1\n",
        "location = 'okanagan'"
      ],
      "metadata": {
        "id": "4CVq0hKKKHQL"
      },
      "execution_count": null,
      "outputs": []
    },
    {
      "cell_type": "code",
      "source": [
        "# download\n",
        "sentinel_items, _ = get_sentinel2_data(client, location_to_shapely_geometry[location])\n",
        "item = sentinel_items[item_index:item_index + 1]\n",
        "download_and_tile_files(item, all_download_files, location)\n",
        "\n",
        "#crop\n",
        "crop_and_visualize(location, location_to_coordinates[location])"
      ],
      "metadata": {
        "id": "UvhZi0rgKHQL"
      },
      "execution_count": null,
      "outputs": []
    },
    {
      "cell_type": "markdown",
      "source": [
        "#### 2-4-7. Vancouver Island"
      ],
      "metadata": {
        "id": "-TXjWZMhKHXE"
      }
    },
    {
      "cell_type": "code",
      "source": [
        "item_index = 1\n",
        "location = 'vancouver_island'"
      ],
      "metadata": {
        "id": "Pm_qzzngKHXF"
      },
      "execution_count": null,
      "outputs": []
    },
    {
      "cell_type": "code",
      "source": [
        "# download\n",
        "sentinel_items, _ = get_sentinel2_data(client, location_to_shapely_geometry[location])\n",
        "item = sentinel_items[item_index:item_index + 1]\n",
        "download_and_tile_files(item, all_download_files, location)\n",
        "\n",
        "#crop\n",
        "crop_and_visualize(location, location_to_coordinates[location])"
      ],
      "metadata": {
        "id": "MfFjfBxDKHXF"
      },
      "execution_count": null,
      "outputs": []
    },
    {
      "cell_type": "markdown",
      "source": [
        "#### 2-4-8. Abbotsford"
      ],
      "metadata": {
        "id": "cRvt--D0LUxx"
      }
    },
    {
      "cell_type": "code",
      "source": [
        "item_index = 0\n",
        "location = 'abbotsford'"
      ],
      "metadata": {
        "id": "5wBLCVYuLUx-"
      },
      "execution_count": null,
      "outputs": []
    },
    {
      "cell_type": "code",
      "source": [
        "# download\n",
        "sentinel_items, _ = get_sentinel2_data(client, location_to_shapely_geometry[location])\n",
        "item = sentinel_items[item_index:item_index + 1]\n",
        "download_and_tile_files(item, all_download_files, location)\n",
        "\n",
        "#crop\n",
        "crop_and_visualize(location, location_to_coordinates[location])"
      ],
      "metadata": {
        "id": "L4wEm1wTLUx-"
      },
      "execution_count": null,
      "outputs": []
    },
    {
      "cell_type": "markdown",
      "source": [
        "#### 2-4-9. Prince George"
      ],
      "metadata": {
        "id": "fsBoB7gBROuX"
      }
    },
    {
      "cell_type": "code",
      "source": [
        "item_index = 0\n",
        "location = 'prince_george'"
      ],
      "metadata": {
        "id": "G8E9pJcjROuh"
      },
      "execution_count": null,
      "outputs": []
    },
    {
      "cell_type": "code",
      "source": [
        "# download\n",
        "sentinel_items, _ = get_sentinel2_data(client, location_to_shapely_geometry[location])\n",
        "item = sentinel_items[item_index:item_index + 1]\n",
        "download_and_tile_files(item, all_download_files, location)\n",
        "\n",
        "#crop\n",
        "crop_and_visualize(location, location_to_coordinates[location])"
      ],
      "metadata": {
        "id": "09gqWp5cROui"
      },
      "execution_count": null,
      "outputs": []
    },
    {
      "cell_type": "markdown",
      "source": [
        "## 3. Experiment\n",
        "\n",
        "subsections share variable names, therefore, run each section in a whole is needed"
      ],
      "metadata": {
        "id": "_q-wOqah9t0h"
      }
    },
    {
      "cell_type": "markdown",
      "source": [
        "### 3-1. Garibaldi Lake"
      ],
      "metadata": {
        "id": "m1QD29ipLmic"
      }
    },
    {
      "cell_type": "code",
      "source": [
        "#location\n",
        "location = 'garibaldi_lake'\n",
        "\n",
        "# ground truth\n",
        "ground_truth = get_ground_truth(location)"
      ],
      "metadata": {
        "id": "aye3RLrCLu3k"
      },
      "execution_count": null,
      "outputs": []
    },
    {
      "cell_type": "code",
      "source": [
        "# generate and visualize spectral and rgb\n",
        "spectral_images = generate_spectral_images(location)"
      ],
      "metadata": {
        "id": "eOR8QKgCMNa3"
      },
      "execution_count": null,
      "outputs": []
    },
    {
      "cell_type": "code",
      "source": [
        "'''\n",
        "Laplacian + NDVI\n",
        "'''\n",
        "apply_algorithm(location, spectral_images['RGB'], spectral_images['NDVI'], ground_truth, 'laplacian', laplacian_threshold, ndvi_threshold, summary_dict)"
      ],
      "metadata": {
        "id": "1UmxaDoeNJGl"
      },
      "execution_count": null,
      "outputs": []
    },
    {
      "cell_type": "code",
      "source": [
        "'''\n",
        "Gabor + NDVI\n",
        "'''\n",
        "apply_algorithm(location, spectral_images['RGB'], spectral_images['NDVI'], ground_truth, 'gabor', gabor_threshold, ndvi_threshold, summary_dict)"
      ],
      "metadata": {
        "id": "yydFSIREPBQh"
      },
      "execution_count": null,
      "outputs": []
    },
    {
      "cell_type": "code",
      "source": [
        "'''\n",
        "Sobel + NDVI\n",
        "'''\n",
        "apply_algorithm(location, spectral_images['RGB'], spectral_images['NDVI'], ground_truth, 'sobel', sobel_threshold, ndvi_threshold, summary_dict)"
      ],
      "metadata": {
        "id": "uy2XmACbPJB8"
      },
      "execution_count": null,
      "outputs": []
    },
    {
      "cell_type": "markdown",
      "source": [
        "### 3-2. Joffre Lake"
      ],
      "metadata": {
        "id": "Guo_H2hYQXJp"
      }
    },
    {
      "cell_type": "code",
      "source": [
        "#location\n",
        "location = 'joffre_lake'\n",
        "\n",
        "# ground truth\n",
        "ground_truth = get_ground_truth(location)"
      ],
      "metadata": {
        "id": "LnmCeb3zQXJ1"
      },
      "execution_count": null,
      "outputs": []
    },
    {
      "cell_type": "code",
      "source": [
        "# generate and visualize spectral and rgb\n",
        "spectral_images = generate_spectral_images(location)"
      ],
      "metadata": {
        "id": "Qqma4_H8QXJ1"
      },
      "execution_count": null,
      "outputs": []
    },
    {
      "cell_type": "code",
      "source": [
        "'''\n",
        "Laplacian + NDVI\n",
        "'''\n",
        "apply_algorithm(location, spectral_images['RGB'], spectral_images['NDVI'], ground_truth, 'laplacian', laplacian_threshold, ndvi_threshold, summary_dict)"
      ],
      "metadata": {
        "id": "1iZap0E2QXJ1"
      },
      "execution_count": null,
      "outputs": []
    },
    {
      "cell_type": "code",
      "source": [
        "'''\n",
        "Gabor + NDVI\n",
        "'''\n",
        "apply_algorithm(location, spectral_images['RGB'], spectral_images['NDVI'], ground_truth, 'gabor', gabor_threshold, ndvi_threshold, summary_dict)"
      ],
      "metadata": {
        "id": "vlJTkxxaQXJ1"
      },
      "execution_count": null,
      "outputs": []
    },
    {
      "cell_type": "code",
      "source": [
        "'''\n",
        "Sobel + NDVI\n",
        "'''\n",
        "apply_algorithm(location, spectral_images['RGB'], spectral_images['NDVI'], ground_truth, 'sobel', sobel_threshold, ndvi_threshold, summary_dict)"
      ],
      "metadata": {
        "id": "3Eid5FJUQXJ1"
      },
      "execution_count": null,
      "outputs": []
    },
    {
      "cell_type": "markdown",
      "source": [
        "### 3-3. Pitt Meadows"
      ],
      "metadata": {
        "id": "I-D6MTdUQXP6"
      }
    },
    {
      "cell_type": "code",
      "source": [
        "#location\n",
        "location = 'pitt_meadows'\n",
        "\n",
        "# ground truth\n",
        "ground_truth = get_ground_truth(location)"
      ],
      "metadata": {
        "id": "A3bE7-vnQXP7"
      },
      "execution_count": null,
      "outputs": []
    },
    {
      "cell_type": "code",
      "source": [
        "# generate and visualize spectral and rgb\n",
        "spectral_images = generate_spectral_images(location)"
      ],
      "metadata": {
        "id": "KoxP24GNQXP7"
      },
      "execution_count": null,
      "outputs": []
    },
    {
      "cell_type": "code",
      "source": [
        "'''\n",
        "Laplacian + NDVI\n",
        "'''\n",
        "apply_algorithm(location, spectral_images['RGB'], spectral_images['NDVI'], ground_truth, 'laplacian', laplacian_threshold, ndvi_threshold, summary_dict)"
      ],
      "metadata": {
        "id": "o6H8EsseQXP7"
      },
      "execution_count": null,
      "outputs": []
    },
    {
      "cell_type": "code",
      "source": [
        "'''\n",
        "Gabor + NDVI\n",
        "'''\n",
        "apply_algorithm(location, spectral_images['RGB'], spectral_images['NDVI'], ground_truth, 'gabor', gabor_threshold, ndvi_threshold, summary_dict)"
      ],
      "metadata": {
        "id": "VECrhsNtQXP8"
      },
      "execution_count": null,
      "outputs": []
    },
    {
      "cell_type": "code",
      "source": [
        "'''\n",
        "Sobel + NDVI\n",
        "'''\n",
        "apply_algorithm(location, spectral_images['RGB'], spectral_images['NDVI'], ground_truth, 'sobel', sobel_threshold, ndvi_threshold, summary_dict)"
      ],
      "metadata": {
        "id": "ZcDZ344tQXP8"
      },
      "execution_count": null,
      "outputs": []
    },
    {
      "cell_type": "markdown",
      "source": [
        "### 3-4. Squamish River"
      ],
      "metadata": {
        "id": "Z9Ebq6EaQXVX"
      }
    },
    {
      "cell_type": "code",
      "source": [
        "#location\n",
        "location = 'squamish_river'\n",
        "\n",
        "# ground truth\n",
        "ground_truth = get_ground_truth(location)"
      ],
      "metadata": {
        "id": "kRqq8THAQXVY"
      },
      "execution_count": null,
      "outputs": []
    },
    {
      "cell_type": "code",
      "source": [
        "# generate and visualize spectral and rgb\n",
        "spectral_images = generate_spectral_images(location)"
      ],
      "metadata": {
        "id": "xglMlmeNQXVY"
      },
      "execution_count": null,
      "outputs": []
    },
    {
      "cell_type": "code",
      "source": [
        "'''\n",
        "Laplacian + NDVI\n",
        "'''\n",
        "apply_algorithm(location, spectral_images['RGB'], spectral_images['NDVI'], ground_truth, 'laplacian', laplacian_threshold, ndvi_threshold, summary_dict)"
      ],
      "metadata": {
        "id": "JjaK9e7JQXVY"
      },
      "execution_count": null,
      "outputs": []
    },
    {
      "cell_type": "code",
      "source": [
        "'''\n",
        "Gabor + NDVI\n",
        "'''\n",
        "apply_algorithm(location, spectral_images['RGB'], spectral_images['NDVI'], ground_truth, 'gabor', gabor_threshold, ndvi_threshold, summary_dict)"
      ],
      "metadata": {
        "id": "zjBTfnvzQXVY"
      },
      "execution_count": null,
      "outputs": []
    },
    {
      "cell_type": "code",
      "source": [
        "'''\n",
        "Sobel + NDVI\n",
        "'''\n",
        "apply_algorithm(location, spectral_images['RGB'], spectral_images['NDVI'], ground_truth, 'sobel', sobel_threshold, ndvi_threshold, summary_dict)"
      ],
      "metadata": {
        "id": "Tj0vOFWaQXVY"
      },
      "execution_count": null,
      "outputs": []
    },
    {
      "cell_type": "markdown",
      "source": [
        "### 3-5. Magnum Mine"
      ],
      "metadata": {
        "id": "LrndE_BlQXaV"
      }
    },
    {
      "cell_type": "code",
      "source": [
        "#location\n",
        "location = 'magnum_mine'\n",
        "\n",
        "# ground truth\n",
        "ground_truth = get_ground_truth(location)"
      ],
      "metadata": {
        "id": "MQAJXkuJQXaV"
      },
      "execution_count": null,
      "outputs": []
    },
    {
      "cell_type": "code",
      "source": [
        "# generate and visualize spectral and rgb\n",
        "spectral_images = generate_spectral_images(location)"
      ],
      "metadata": {
        "id": "A7Lz8pIGQXaV"
      },
      "execution_count": null,
      "outputs": []
    },
    {
      "cell_type": "code",
      "source": [
        "'''\n",
        "Laplacian + NDVI\n",
        "'''\n",
        "apply_algorithm(location, spectral_images['RGB'], spectral_images['NDVI'], ground_truth, 'laplacian', laplacian_threshold, ndvi_threshold, summary_dict)"
      ],
      "metadata": {
        "id": "v9N_pQaVQXaV"
      },
      "execution_count": null,
      "outputs": []
    },
    {
      "cell_type": "code",
      "source": [
        "'''\n",
        "Gabor + NDVI\n",
        "'''\n",
        "apply_algorithm(location, spectral_images['RGB'], spectral_images['NDVI'], ground_truth, 'gabor', gabor_threshold, ndvi_threshold, summary_dict)"
      ],
      "metadata": {
        "id": "6b4-5RTLQXaV"
      },
      "execution_count": null,
      "outputs": []
    },
    {
      "cell_type": "code",
      "source": [
        "'''\n",
        "Sobel + NDVI\n",
        "'''\n",
        "apply_algorithm(location, spectral_images['RGB'], spectral_images['NDVI'], ground_truth, 'sobel', sobel_threshold, ndvi_threshold, summary_dict)"
      ],
      "metadata": {
        "id": "SeniEUs-QXaV"
      },
      "execution_count": null,
      "outputs": []
    },
    {
      "cell_type": "markdown",
      "source": [
        "### 3-6. Okanagan"
      ],
      "metadata": {
        "id": "zK4A_ojAQXep"
      }
    },
    {
      "cell_type": "code",
      "source": [
        "#location\n",
        "location = 'okanagan'\n",
        "\n",
        "# ground truth\n",
        "ground_truth = get_ground_truth(location)"
      ],
      "metadata": {
        "id": "tC5glwwSQXep"
      },
      "execution_count": null,
      "outputs": []
    },
    {
      "cell_type": "code",
      "source": [
        "# generate and visualize spectral and rgb\n",
        "spectral_images = generate_spectral_images(location)"
      ],
      "metadata": {
        "id": "ooL3FTuqQXep"
      },
      "execution_count": null,
      "outputs": []
    },
    {
      "cell_type": "code",
      "source": [
        "'''\n",
        "Laplacian + NDVI\n",
        "'''\n",
        "apply_algorithm(location, spectral_images['RGB'], spectral_images['NDVI'], ground_truth, 'laplacian', laplacian_threshold, ndvi_threshold, summary_dict)"
      ],
      "metadata": {
        "id": "JFY3QxpAQXep"
      },
      "execution_count": null,
      "outputs": []
    },
    {
      "cell_type": "code",
      "source": [
        "'''\n",
        "Gabor + NDVI\n",
        "'''\n",
        "apply_algorithm(location, spectral_images['RGB'], spectral_images['NDVI'], ground_truth, 'gabor', gabor_threshold, ndvi_threshold, summary_dict)"
      ],
      "metadata": {
        "id": "NqbZTmclQXep"
      },
      "execution_count": null,
      "outputs": []
    },
    {
      "cell_type": "code",
      "source": [
        "'''\n",
        "Sobel + NDVI\n",
        "'''\n",
        "apply_algorithm(location, spectral_images['RGB'], spectral_images['NDVI'], ground_truth, 'sobel', sobel_threshold, ndvi_threshold, summary_dict)"
      ],
      "metadata": {
        "id": "Br_f7oJxQXep"
      },
      "execution_count": null,
      "outputs": []
    },
    {
      "cell_type": "markdown",
      "source": [
        "### 3-7. Vancouver Island"
      ],
      "metadata": {
        "id": "EGUJunCzQXih"
      }
    },
    {
      "cell_type": "code",
      "source": [
        "#location\n",
        "location = 'vancouver_island'\n",
        "\n",
        "# ground truth\n",
        "ground_truth = get_ground_truth(location)"
      ],
      "metadata": {
        "id": "IY8uNa55QXii"
      },
      "execution_count": null,
      "outputs": []
    },
    {
      "cell_type": "code",
      "source": [
        "# generate and visualize spectral and rgb\n",
        "spectral_images = generate_spectral_images(location)"
      ],
      "metadata": {
        "id": "Je-rwYHwQXii"
      },
      "execution_count": null,
      "outputs": []
    },
    {
      "cell_type": "code",
      "source": [
        "'''\n",
        "Laplacian + NDVI\n",
        "'''\n",
        "apply_algorithm(location, spectral_images['RGB'], spectral_images['NDVI'], ground_truth, 'laplacian', laplacian_threshold, ndvi_threshold, summary_dict)"
      ],
      "metadata": {
        "id": "tyVLDg0XQXii"
      },
      "execution_count": null,
      "outputs": []
    },
    {
      "cell_type": "code",
      "source": [
        "'''\n",
        "Gabor + NDVI\n",
        "'''\n",
        "apply_algorithm(location, spectral_images['RGB'], spectral_images['NDVI'], ground_truth, 'gabor', gabor_threshold, ndvi_threshold, summary_dict)"
      ],
      "metadata": {
        "id": "zaaF2tLQQXii"
      },
      "execution_count": null,
      "outputs": []
    },
    {
      "cell_type": "code",
      "source": [
        "'''\n",
        "Sobel + NDVI\n",
        "'''\n",
        "apply_algorithm(location, spectral_images['RGB'], spectral_images['NDVI'], ground_truth, 'sobel', sobel_threshold, ndvi_threshold, summary_dict)"
      ],
      "metadata": {
        "id": "lVWICPcuQXii"
      },
      "execution_count": null,
      "outputs": []
    },
    {
      "cell_type": "markdown",
      "source": [
        "### 3-8. Abbotsford"
      ],
      "metadata": {
        "id": "_UuCZa2sQXms"
      }
    },
    {
      "cell_type": "code",
      "source": [
        "#location\n",
        "location = 'abbotsford'\n",
        "\n",
        "# ground truth\n",
        "ground_truth = get_ground_truth(location)"
      ],
      "metadata": {
        "id": "CDWf4ZbWQXms"
      },
      "execution_count": null,
      "outputs": []
    },
    {
      "cell_type": "code",
      "source": [
        "# generate and visualize spectral and rgb\n",
        "spectral_images = generate_spectral_images(location)"
      ],
      "metadata": {
        "id": "o4ho2fayQXms"
      },
      "execution_count": null,
      "outputs": []
    },
    {
      "cell_type": "code",
      "source": [
        "'''\n",
        "Laplacian + NDVI\n",
        "'''\n",
        "apply_algorithm(location, spectral_images['RGB'], spectral_images['NDVI'], ground_truth, 'laplacian', laplacian_threshold, ndvi_threshold, summary_dict)"
      ],
      "metadata": {
        "id": "vFXOuzaQQXms"
      },
      "execution_count": null,
      "outputs": []
    },
    {
      "cell_type": "code",
      "source": [
        "'''\n",
        "Gabor + NDVI\n",
        "'''\n",
        "apply_algorithm(location, spectral_images['RGB'], spectral_images['NDVI'], ground_truth, 'gabor', gabor_threshold, ndvi_threshold, summary_dict)"
      ],
      "metadata": {
        "id": "fcOnaO0eQXms"
      },
      "execution_count": null,
      "outputs": []
    },
    {
      "cell_type": "code",
      "source": [
        "'''\n",
        "Sobel + NDVI\n",
        "'''\n",
        "apply_algorithm(location, spectral_images['RGB'], spectral_images['NDVI'], ground_truth, 'sobel', sobel_threshold, ndvi_threshold, summary_dict)"
      ],
      "metadata": {
        "id": "xI9ShEg1QXms"
      },
      "execution_count": null,
      "outputs": []
    },
    {
      "cell_type": "markdown",
      "source": [
        "### 3-9. Prince George"
      ],
      "metadata": {
        "id": "JxkXo0XZRhMX"
      }
    },
    {
      "cell_type": "code",
      "source": [
        "#location\n",
        "location = 'prince_george'\n",
        "\n",
        "# ground truth\n",
        "ground_truth = get_ground_truth(location)"
      ],
      "metadata": {
        "id": "SO4ArN2uRhMd"
      },
      "execution_count": null,
      "outputs": []
    },
    {
      "cell_type": "code",
      "source": [
        "# generate and visualize spectral and rgb\n",
        "spectral_images = generate_spectral_images(location)"
      ],
      "metadata": {
        "id": "fuR76ncqRhMd"
      },
      "execution_count": null,
      "outputs": []
    },
    {
      "cell_type": "code",
      "source": [
        "'''\n",
        "Laplacian + NDVI\n",
        "'''\n",
        "apply_algorithm(location, spectral_images['RGB'], spectral_images['NDVI'], ground_truth, 'laplacian', laplacian_threshold, ndvi_threshold, summary_dict)"
      ],
      "metadata": {
        "id": "QOMvZ-5nRhMd"
      },
      "execution_count": null,
      "outputs": []
    },
    {
      "cell_type": "code",
      "source": [
        "'''\n",
        "Gabor + NDVI\n",
        "'''\n",
        "apply_algorithm(location, spectral_images['RGB'], spectral_images['NDVI'], ground_truth, 'gabor', gabor_threshold, ndvi_threshold, summary_dict)"
      ],
      "metadata": {
        "id": "Yo3TKulORhMd"
      },
      "execution_count": null,
      "outputs": []
    },
    {
      "cell_type": "code",
      "source": [
        "'''\n",
        "Sobel + NDVI\n",
        "'''\n",
        "apply_algorithm(location, spectral_images['RGB'], spectral_images['NDVI'], ground_truth, 'sobel', sobel_threshold, ndvi_threshold, summary_dict)"
      ],
      "metadata": {
        "id": "zm0kNF0qRhMe"
      },
      "execution_count": null,
      "outputs": []
    },
    {
      "cell_type": "markdown",
      "source": [
        "## 4. Result Summary"
      ],
      "metadata": {
        "id": "wW1l-0QK9442"
      }
    },
    {
      "cell_type": "code",
      "source": [
        "visualize_summary_dict(summary_dict)"
      ],
      "metadata": {
        "id": "9PJZbJU6RoFT"
      },
      "execution_count": null,
      "outputs": []
    },
    {
      "cell_type": "markdown",
      "source": [
        "## 5. Other"
      ],
      "metadata": {
        "id": "2UBt9M0h6sXQ"
      }
    },
    {
      "cell_type": "markdown",
      "source": [
        "### 5-1. Ground Truth Generating\n",
        "Visit [this](https://code.earthengine.google.com/?scriptPath=users/sat-io/awesome-gee-catalog-examples:agriculture-vegetation-forestry/CA-FORESTED-ECOSYSTEM-LC). Replace the code with the code below."
      ],
      "metadata": {
        "id": "uBNetwnG7BV9"
      }
    },
    {
      "cell_type": "code",
      "source": [
        "# // Ground truth download\n",
        "# var ca_lc_last = ee.Image(ca_lc.sort('system:time_start',false).first());\n",
        "\n",
        "# var from = [0, 20, 31, 32, 33, 40, 50, 80, 81, 100, 210, 220, 230];\n",
        "# var to =   [0, 1,  2,  3,  4,  5,  6,  7,  8,  9,   10,  11,  12 ];\n",
        "# ca_lc_last = ca_lc_last.remap(from, to);\n",
        "\n",
        "# print(\"Reclassed values:\");\n",
        "# print({\"from\": from, \"to\": to});\n",
        "\n",
        "# // Define a dictionary which will be used to make legend and visualize image on map\n",
        "# var dict = {\n",
        "#   \"names\": [\n",
        "#   \"Unclassified\",\n",
        "#   \"Water\",\n",
        "#   \"Snow/Ice\",\n",
        "#   \"Rock/Rubble\",\n",
        "#   \"Exposed/Barren land\",\n",
        "#   \"Bryoids\",\n",
        "#   \"Shrubs\",\n",
        "#   \"Wetland\",\n",
        "#   \"Wetland-treed\",\n",
        "#   \"Herbs\",\n",
        "#   \"Coniferous\",\n",
        "#   \"Broadleaf\",\n",
        "#   \"Mixedwood\"\n",
        "#   ],\n",
        "#   \"colors\": [\n",
        "#     \"#686868\",\n",
        "#     \"#3333ff\",\n",
        "#     \"#ccffff\",\n",
        "#     \"#cccccc\",\n",
        "#     \"#996633\",\n",
        "#     \"#ffccff\",\n",
        "#     \"#ffff00\",\n",
        "#     \"#993399\",\n",
        "#     \"#9933cc\",\n",
        "#     \"#ccff33\",\n",
        "#     \"#006600\",\n",
        "#     \"#00cc00\",\n",
        "#     \"#cc9900\"\n",
        "#   ]};\n",
        "\n",
        "# // Create a panel to hold the legend widget\n",
        "# var legend = ui.Panel({\n",
        "#   style: {\n",
        "#     position: 'bottom-left',\n",
        "#     padding: '8px 15px'\n",
        "#   }\n",
        "# });\n",
        "\n",
        "# // Function to generate the legend\n",
        "# function addCategoricalLegend(panel, dict, title) {\n",
        "\n",
        "#   // Create and add the legend title.\n",
        "#   var legendTitle = ui.Label({\n",
        "#     value: title,\n",
        "#     style: {\n",
        "#       fontWeight: 'bold',\n",
        "#       fontSize: '18px',\n",
        "#       margin: '0 0 4px 0',\n",
        "#       padding: '0'\n",
        "#     }\n",
        "#   });\n",
        "#   panel.add(legendTitle);\n",
        "\n",
        "#   var loading = ui.Label('Loading legend...', {margin: '2px 0 4px 0'});\n",
        "#   panel.add(loading);\n",
        "\n",
        "#   // Creates and styles 1 row of the legend.\n",
        "#   var makeRow = function(color, name) {\n",
        "#     // Create the label that is actually the colored box.\n",
        "#     var colorBox = ui.Label({\n",
        "#       style: {\n",
        "#         backgroundColor: color,\n",
        "#         // Use padding to give the box height and width.\n",
        "#         padding: '8px',\n",
        "#         margin: '0 0 4px 0'\n",
        "#       }\n",
        "#     });\n",
        "\n",
        "#     // Create the label filled with the description text.\n",
        "#     var description = ui.Label({\n",
        "#       value: name,\n",
        "#       style: {margin: '0 0 4px 6px'}\n",
        "#     });\n",
        "\n",
        "#     return ui.Panel({\n",
        "#       widgets: [colorBox, description],\n",
        "#       layout: ui.Panel.Layout.Flow('horizontal')\n",
        "#     });\n",
        "#   };\n",
        "\n",
        "#   // Get the list of palette colors and class names from the image.\n",
        "#   var palette = dict['colors'];\n",
        "#   var names = dict['names'];\n",
        "#   loading.style().set('shown', false);\n",
        "\n",
        "#   for (var i = 0; i < names.length; i++) {\n",
        "#     panel.add(makeRow(palette[i], names[i]));\n",
        "#   }\n",
        "\n",
        "#   Map.add(panel);\n",
        "\n",
        "# }\n",
        "\n",
        "\n",
        "# /*\n",
        "#   // Display map and legend ///////////////////////////////////////////////////////////////////////////////\n",
        "# */\n",
        "\n",
        "# // Add the legend to the map\n",
        "# addCategoricalLegend(legend, dict, 'CA Annual forest LC map 2019');\n",
        "\n",
        "# Map.setCenter(-97.61655457157725,55.6280720462063,4)\n",
        "\n",
        "# // Add image to the map\n",
        "# Map.addLayer(ca_lc_last.mask(ca_lc_last.neq(0)), {min:0, max:12, palette:dict['colors']}, 'CA Annual forest LC map 2019')\n",
        "\n",
        "# // Add a RGB layer\n",
        "# // Define the visualization parameters with the color palette\n",
        "# var visualization = {\n",
        "#   min: 0,\n",
        "#   max: 12,\n",
        "#   palette: [\n",
        "#     \"#686868\", \"#3333ff\", \"#ccffff\", \"#cccccc\", \"#996633\",\n",
        "#     \"#ffccff\", \"#ffff00\", \"#993399\", \"#9933cc\", \"#ccff33\",\n",
        "#     \"#006600\", \"#00cc00\", \"#cc9900\"\n",
        "#   ]\n",
        "# };\n",
        "\n",
        "# // Apply the visualization parameters\n",
        "# var visualizedImage = ca_lc_last.visualize(visualization);\n",
        "\n",
        "# // Display the RGB image on the map\n",
        "# Map.addLayer(visualizedImage, {}, 'CA Annual Forest LC Map 2019 RGB');\n",
        "\n",
        "# // Download a specific area\n",
        "# var geojsonGeometry = {\n",
        "#   \"type\": \"Polygon\",\n",
        "#   \"coordinates\": [\n",
        "#     [\n",
        "#       [\n",
        "#               -123.11679830457658, 49.96048123499753\n",
        "#             ],\n",
        "#             [\n",
        "#               -123.11679830457658, 49.89344994731354\n",
        "#             ],\n",
        "#             [\n",
        "#               -122.98558891107739, 49.89344994731354\n",
        "#             ],\n",
        "#             [\n",
        "#               -122.98558891107739, 49.96048123499753\n",
        "#             ],\n",
        "#     ]\n",
        "#   ]\n",
        "# };\n",
        "\n",
        "# // Create an Earth Engine geometry object using GeoJSON\n",
        "# var region = ee.Geometry(geojsonGeometry);\n",
        "\n",
        "# Map.centerObject(region, 15); // Center the map on this area at a higher zoom level\n",
        "# Map.addLayer(region, {color: 'red'}, 'Custom Polygon Region');\n",
        "\n",
        "# // Export.image.toDrive({\n",
        "# //   image: ca_lc_last, // name of the image\n",
        "# //   description: 'stanley_park_full',\n",
        "# //   scale: 30,\n",
        "# //   region: region  // Use the defined polygon area\n",
        "# // });\n",
        "\n",
        "# // Export the RGB image\n",
        "# Export.image.toDrive({\n",
        "#   image: visualizedImage,\n",
        "#   description: 'garibaldi_lake_RGB',\n",
        "#   scale: 30,\n",
        "#   region: region,  // Use the defined polygon area\n",
        "#   formatOptions: {\n",
        "#     cloudOptimized: true\n",
        "#   }\n",
        "# });\n",
        "\n",
        "# //Download setting --> EPSG:32610"
      ],
      "metadata": {
        "id": "D0oWp-Br7AHH"
      },
      "execution_count": null,
      "outputs": []
    }
  ],
  "metadata": {
    "colab": {
      "provenance": [],
      "collapsed_sections": [
        "8YiW9XUYCiEL",
        "RJyY8znNfO_r",
        "RTbDC4FVp0L7",
        "50xAE3479ooY",
        "GDAuQeA7RJLx",
        "gfwb3v1veOPk",
        "AjDL2caTfiuc",
        "JUnD-LInFGgB",
        "gWxf0-h-KHcQ",
        "ihykUYqGKHhN",
        "cfMv9YM2KGiJ",
        "AewNe1y7KHHr",
        "29dbrXh3KHQL",
        "-TXjWZMhKHXE",
        "cRvt--D0LUxx",
        "fsBoB7gBROuX",
        "m1QD29ipLmic",
        "Guo_H2hYQXJp",
        "I-D6MTdUQXP6",
        "Z9Ebq6EaQXVX",
        "LrndE_BlQXaV",
        "zK4A_ojAQXep",
        "EGUJunCzQXih",
        "_UuCZa2sQXms",
        "JxkXo0XZRhMX",
        "wW1l-0QK9442",
        "2UBt9M0h6sXQ",
        "uBNetwnG7BV9"
      ]
    },
    "kernelspec": {
      "display_name": "Python 3",
      "name": "python3"
    },
    "language_info": {
      "name": "python"
    }
  },
  "nbformat": 4,
  "nbformat_minor": 0
}